{
  "nbformat": 4,
  "nbformat_minor": 0,
  "metadata": {
    "colab": {
      "provenance": [],
      "gpuType": "T4"
    },
    "kernelspec": {
      "name": "python3",
      "display_name": "Python 3"
    },
    "language_info": {
      "name": "python"
    },
    "accelerator": "GPU"
  },
  "cells": [
    {
      "cell_type": "markdown",
      "source": [
        "# Entraînement d'un modèle LSTM pour la classification de texte\n",
        "\n",
        "Dans ce tutoriel, nous allons aborder les étapes essentielles pour construire et entraîner un modèle de réseau de neurones récurrents, spécifiquement une architecture LSTM (Long Short-Term Memory), pour la classification de texte en utilisant le jeu de données AG_NEWS.\n",
        "\n",
        "### Dataset\n",
        "\n",
        "Le jeu de données AG_NEWS est un ensemble de données de classification des nouvelles qui comprend des titres d'articles de nouvelles et des descriptions provenant de plus de 2 000 sources d'informations. Il est organisé en quatre catégories principales : Monde, Sports, Business et Science/Technologie, ce qui en fait un choix excellent pour les tâches de classification de texte dans le domaine de la reconnaissance automatique des sujets de nouvelles. Chaque enregistrement est étiqueté avec son appartenance à l'une de ces catégories, offrant ainsi un cadre clair pour les modèles supervisés d'apprentissage automatique.\n",
        "\n",
        "\n",
        "\n",
        "### Préparation de l'environnement  \n",
        "Nous commencerons par configurer notre environnement de développement en important les bibliothèques nécessaires fournies par PyTorch, y compris les modules pour les jeux de données, la modélisation, et l'optimisation.\n",
        "\n",
        "### Chargement des données\n",
        "Nous chargerons le jeu de données AG_NEWS en utilisant les utilitaires de torchtext, qui simplifient le processus de téléchargement et de prétraitement des données textuelles.\n",
        "\n",
        "### Prétraitement du texte\n",
        "Nous aborderons ensuite les étapes de tokenisation et de construction de vocabulaire, deux étapes préliminaires cruciales pour transformer le texte brut en une forme numérique que notre modèle pourra interpréter.\n",
        "\n",
        "### Construction du modèle LSTM\n",
        "Nous définirons la classe LSTMClassifier, qui établira l'architecture de notre modèle LSTM en utilisant les couches et fonctions fournies par PyTorch.\n",
        "\n",
        "### Entraînement du modèle  \n",
        "Nous procéderons à l'entraînement du modèle en utilisant la rétropropagation à travers le temps (Backpropagation Through Time, BPTT), tout en gérant les aspects tels que la fonction de perte et l'optimisation.\n",
        "\n",
        "### Évaluation du modèle  \n",
        "Nous évaluerons les performances de notre modèle en calculant la précision sur un ensemble de test, ce qui nous donnera une indication de la façon dont notre modèle est susceptible de se comporter en production.\n"
      ],
      "metadata": {
        "id": "FYNAnKThFDX7"
      }
    },
    {
      "cell_type": "code",
      "source": [
        "!pip install portalocker>=2.0.0"
      ],
      "metadata": {
        "id": "sFANCW1PeCOS"
      },
      "execution_count": 1,
      "outputs": []
    },
    {
      "cell_type": "code",
      "source": [
        "from torchtext.datasets import AG_NEWS\n",
        "\n",
        "# Crée un itérateur\n",
        "train_iter = iter(AG_NEWS(split='train'))\n",
        "\n",
        "# Récupère le premier exemple\n",
        "first_example = next(train_iter)\n",
        "\n",
        "print(first_example)"
      ],
      "metadata": {
        "colab": {
          "base_uri": "https://localhost:8080/"
        },
        "id": "9or2WVliLYH_",
        "outputId": "e7f703e6-fdaf-432a-d6ad-c99b8a235a41"
      },
      "execution_count": 2,
      "outputs": [
        {
          "output_type": "stream",
          "name": "stdout",
          "text": [
            "(3, \"Wall St. Bears Claw Back Into the Black (Reuters) Reuters - Short-sellers, Wall Street's dwindling\\\\band of ultra-cynics, are seeing green again.\")\n"
          ]
        }
      ]
    },
    {
      "cell_type": "code",
      "source": [
        "import torch\n",
        "from torch.utils.data import DataLoader\n",
        "from torchtext.data.utils import get_tokenizer\n",
        "from torchtext.vocab import build_vocab_from_iterator\n",
        "from torch import nn\n",
        "import torch.optim as optim\n",
        "\n",
        "# Détecte si un GPU est disponible et le sélectionne pour les calculs, sinon utilise le CPU.\n",
        "device = torch.device(\"cuda\" if torch.cuda.is_available() else \"cpu\")\n",
        "\n",
        "# Charge les ensembles de données d'entraînement et de test AG News.\n",
        "train_iter, test_iter = AG_NEWS()\n",
        "\n",
        "# Initialise le tokenizer pour la tokenisation en anglais basique.\n",
        "tokenizer = get_tokenizer('basic_english')\n",
        "\n",
        "# Définit une fonction génératrice qui itère sur l'ensemble de données et tokenize le texte.\n",
        "def yield_tokens(data_iter):\n",
        "    for _, text in data_iter:\n",
        "        yield tokenizer(text)\n",
        "\n",
        "# Construit un vocabulaire à partir de l'itérateur de tokens avec un token inconnu spécial \"<unk>\".\n",
        "vocab = build_vocab_from_iterator(yield_tokens(train_iter), specials=[\"<unk>\"])\n",
        "vocab.set_default_index(vocab[\"<unk>\"])"
      ],
      "metadata": {
        "id": "xsPvM69hHvZ_"
      },
      "execution_count": 3,
      "outputs": []
    },
    {
      "cell_type": "code",
      "source": [
        "# Définit une classe de modèle pour le classificateur LSTM en utilisant le module nn de PyTorch.\n",
        "class LSTMClassifier(nn.Module):\n",
        "    def __init__(self, vocab_size, embed_dim, hidden_dim, num_classes):\n",
        "        super(LSTMClassifier, self).__init__()\n",
        "        #################### Compléter le code #######################\n",
        "        # Définit les dimensions de l'embedding et du LSTM\n",
        "        self.embed_dim = embed_dim\n",
        "        self.hidden_dim = hidden_dim\n",
        "        # Crée une couche d'embedding\n",
        "        self.embedding = nn.Embedding(vocab_size, embed_dim)\n",
        "        # Crée une couche LSTM\n",
        "        self.lstm = nn.LSTM(embed_dim, hidden_dim, batch_first=True)\n",
        "        # Couche linéaire pour la classification\n",
        "        self.fc = nn.Linear(hidden_dim, num_classes)\n",
        "        # Prediction activation function\n",
        "        self.sigmoid = nn.Sigmoid()\n",
        "        ##############################################################\n",
        "\n",
        "    def forward(self, text):\n",
        "        # Définit le flux de données à travers le réseau.\n",
        "        ################### Compléter le code ########################\n",
        "        # Embedding des données textuelles\n",
        "        embedded = self.embedding(text)\n",
        "        # Passe les données textuelles à travers le LSTM\n",
        "        lstm_out, _ = self.lstm(embedded)\n",
        "        # Récupère la sortie du dernier pas de temps\n",
        "        lstm_out = lstm_out[:, -1, :]\n",
        "        # Passe la sortie du LSTM à travers la couche linéaire pour la classification\n",
        "        output = self.fc(lstm_out)\n",
        "        return output\n",
        "        ##############################################################\n",
        "# Initialise les paramètres du modèle.\n",
        "vocab_size = len(vocab)\n",
        "embed_dim = 64\n",
        "hidden_dim = 128\n",
        "num_classes = 4  # Les catégories sont Monde, Sports, Business, Science/Technologie\n",
        "\n",
        "# Crée une instance du modèle LSTMClassifier et la transfère sur le périphérique sélectionné (GPU ou CPU).\n",
        "model = LSTMClassifier(vocab_size, embed_dim, hidden_dim, num_classes).to(device)\n",
        "\n",
        "# Définit la fonction de perte CrossEntropy pour la classification et l'optimiseur Adam.\n",
        "criterion = nn.CrossEntropyLoss()\n",
        "optimizer = optim.Adam(model.parameters(), lr=0.001)"
      ],
      "metadata": {
        "id": "TqPmt0oyHym5"
      },
      "execution_count": 5,
      "outputs": []
    },
    {
      "cell_type": "code",
      "source": [
        "\n",
        "\n",
        "# Prépare les données pour l'entraînement avec une fonction de collation personnalisée.\n",
        "def collate_batch(batch):\n",
        "    \"\"\"\n",
        "    Prépare un lot pour l'entraînement ou l'évaluation.\n",
        "\n",
        "    Cette fonction est utilisée comme fonction de collation pour le DataLoader. Elle traite chaque lot\n",
        "    en séparant les étiquettes des textes, tokenisant les textes, convertissant les tokens en indices\n",
        "    via le vocabulaire, puis padde les séquences pour qu'elles aient toutes la même longueur.\n",
        "\n",
        "    Args:\n",
        "    batch (list): Un lot d'échantillons provenant du DataLoader, où chaque échantillon est un tuple\n",
        "                  contenant l'étiquette et le texte brut.\n",
        "\n",
        "    Returns:\n",
        "    Tuple[Tensor, Tensor]: Le premier tensor contient les étiquettes du lot, et le second tensor\n",
        "                           contient les textes tokenisés et paddés du lot, tous deux prêts à être\n",
        "                           passés à travers le modèle.\n",
        "    \"\"\"\n",
        "    label_list, text_list = [], []  # Initialisation des listes pour stocker séparément les étiquettes et les textes traités.\n",
        "\n",
        "    for (_label, _text) in batch:\n",
        "        label_list.append(_label - 1)  # Ajuste les étiquettes pour la perte de CrossEntropy et les ajoute à la liste des étiquettes.\n",
        "        processed_text = torch.tensor(vocab(tokenizer(_text)), dtype=torch.int64)  # Tokenise le texte, convertit les tokens en indices, et crée un tensor.\n",
        "        text_list.append(processed_text)  # Ajoute le texte traité à la liste des textes.\n",
        "\n",
        "    # Convertit les listes d'étiquettes et de textes en tensors, puis les transfère sur le dispositif approprié (GPU ou CPU).\n",
        "    # Padded les séquences de textes pour qu'elles aient toutes la même longueur.\n",
        "    return torch.tensor(label_list, dtype=torch.int64).to(device), nn.utils.rnn.pad_sequence(text_list, batch_first=True).to(device)\n",
        "\n",
        "\n",
        "# Crée des chargeurs de données pour l'entraînement et les tests.\n",
        "train_loader = DataLoader(train_iter, batch_size=8, shuffle=False, collate_fn=collate_batch)\n",
        "test_loader = DataLoader(test_iter, batch_size=8, shuffle=False, collate_fn=collate_batch)\n",
        "\n",
        "# Définit une fonction pour entraîner le modèle.\n",
        "def train_model(model, train_loader, test_loader, criterion, optimizer, num_epochs, device):\n",
        "    \"\"\"\n",
        "    Entraîner le modèle LSTM avec les données fournies.\n",
        "\n",
        "    Args:\n",
        "    model (torch.nn.Module): Le modèle LSTM à entraîner.\n",
        "    train_loader (DataLoader): Chargeur de données pour l'ensemble d'entraînement.\n",
        "    test_loader (DataLoader): Chargeur de données pour l'ensemble de test.\n",
        "    criterion (loss_function): Fonction de perte à utiliser pour l'entraînement.\n",
        "    optimizer (torch.optim): Optimiseur pour mettre à jour les poids du modèle.\n",
        "    num_epochs (int): Nombre d'époques d'entraînement.\n",
        "    device (torch.device): Dispositif sur lequel le modèle est exécuté (CPU ou GPU).\n",
        "\n",
        "    Returns:\n",
        "    None\n",
        "    \"\"\"\n",
        "    for epoch in range(num_epochs):  # Boucle sur le nombre d'époques spécifié.\n",
        "        model.train()  # Met le modèle en mode entraînement.\n",
        "        total_loss = 0  # Accumulateur pour la perte totale sur l'ensemble d'entraînement.\n",
        "        num_batches = 0  # Compteur pour le nombre de lots traités.\n",
        "\n",
        "        ################ Compléter le code #######################\n",
        "        for labels, text in train_loader:  # Itère sur les lots dans le chargeur de données d'entraînement.\n",
        "            labels, text = labels.to(device), text.to(device)  # Transfère les données sur le dispositif approprié.\n",
        "            optimizer.zero_grad()  # Réinitialise les gradients à zéro.\n",
        "            output = model(text)  # Propage les données à travers le modèle.\n",
        "            loss = criterion(output, labels)  # Calcule la perte entre les prédictions et les étiquettes réelles.\n",
        "            loss.backward()  # Effectue la rétropropagation pour calculer les gradients.\n",
        "            optimizer.step()  # Met à jour les poids du modèle en fonction des gradients calculés.\n",
        "            total_loss += loss.item()  # Ajoute la perte du lot à la perte totale.\n",
        "            num_batches += 1  # Incrémente le nombre de lots traités.\n",
        "\n",
        "        # Évalue le modèle sur l'ensemble de test à la fin de chaque époque.\n",
        "        test_loss, test_accuracy = evaluate_model(model, test_loader, criterion, device)\n",
        "\n",
        "        # Calcule la perte moyenne sur l'ensemble d'entraînement.\n",
        "        train_loss = total_loss / num_batches\n",
        "        ##########################################################\n",
        "\n",
        "        print(f'Epoch {epoch+1}, Train Loss: {train_loss}, Test Loss: {test_loss}, Test Accuracy: {test_accuracy}')\n",
        "\n",
        "\n",
        "def evaluate_model(model, test_loader, criterion, device):\n",
        "    \"\"\"\n",
        "    Évaluer le modèle sur l'ensemble de test.\n",
        "\n",
        "    Args:\n",
        "    model (torch.nn.Module): Le modèle LSTM à évaluer.\n",
        "    test_loader (DataLoader): Chargeur de données pour l'ensemble de test.\n",
        "    criterion (loss_function): Fonction de perte utilisée pour l'évaluation.\n",
        "    device (torch.device): Dispositif sur lequel le modèle est exécuté (CPU ou GPU).\n",
        "\n",
        "    Returns:\n",
        "    float: La perte moyenne sur l'ensemble de test.\n",
        "    float: La précision du modèle sur l'ensemble de test.\n",
        "    \"\"\"\n",
        "    model.eval()  # Met le modèle en mode évaluation pour désactiver le dropout ou la normalisation par lots, si présent.\n",
        "    total_loss = 0  # Accumulateur pour la perte totale sur l'ensemble de test.\n",
        "    correct_preds = 0  # Compteur pour le nombre total de prédictions correctes.\n",
        "    total_samples = 0  # Compteur pour le nombre total d'échantillons dans l'ensemble de test.\n",
        "\n",
        "    with torch.no_grad():  # Désactive la génération de gradients pour les opérations suivantes, ce qui économise de la mémoire et des calculs.\n",
        "        for labels, text in test_loader:\n",
        "            labels, text = labels.to(device), text.to(device)  # Transfère les données sur le dispositif approprié.\n",
        "            output = model(text)  # Obtient les prédictions du modèle pour le lot actuel.\n",
        "            loss = criterion(output, labels)  # Calcule la perte entre les prédictions et les étiquettes réelles.\n",
        "            total_loss += loss.item()  # Ajoute la perte du lot à la perte totale.\n",
        "            predictions = output.argmax(1)  # Obtient les indices des prédictions maximales (classes prédites).\n",
        "            correct_preds += (predictions == labels).sum().item()  # Incrémente le nombre de prédictions correctes.\n",
        "            total_samples += labels.size(0)  # Ajoute le nombre d'échantillons dans le lot au nombre total d'échantillons.\n",
        "\n",
        "    # Calcule la perte moyenne et la précision sur l'ensemble de test.\n",
        "    return total_loss / total_samples, correct_preds / total_samples\n",
        "\n",
        "\n",
        "# Entraîne et évalue le modèle\n",
        "num_epochs = 5  # Définit le nombre d'itérations pour l'entraînement.\n",
        "train_model(model, train_loader, test_loader, criterion, optimizer, num_epochs, device)"
      ],
      "metadata": {
        "colab": {
          "base_uri": "https://localhost:8080/"
        },
        "id": "aeiud_eMBoYG",
        "outputId": "f3d3b004-7128-46de-e0af-f2acb1b8f0de"
      },
      "execution_count": 7,
      "outputs": [
        {
          "output_type": "stream",
          "name": "stdout",
          "text": [
            "Epoch 1, Train Loss: 0.630276606418658, Test Loss: 0.041803457124746944, Test Accuracy: 0.8914473684210527\n",
            "Epoch 2, Train Loss: 0.23327866336489098, Test Loss: 0.034987086890032514, Test Accuracy: 0.9106578947368421\n",
            "Epoch 3, Train Loss: 0.15938683184702337, Test Loss: 0.03658269432053203, Test Accuracy: 0.915\n",
            "Epoch 4, Train Loss: 0.10982952544212603, Test Loss: 0.04083522975184774, Test Accuracy: 0.9122368421052631\n",
            "Epoch 5, Train Loss: 0.07384597753528724, Test Loss: 0.04653879744520294, Test Accuracy: 0.9101315789473684\n"
          ]
        }
      ]
    },
    {
      "cell_type": "code",
      "source": [],
      "metadata": {
        "id": "WpMf6ySe71v8"
      },
      "execution_count": null,
      "outputs": []
    }
  ]
}